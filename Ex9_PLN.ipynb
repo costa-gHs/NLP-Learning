{
  "nbformat": 4,
  "nbformat_minor": 0,
  "metadata": {
    "colab": {
      "provenance": []
    },
    "kernelspec": {
      "name": "python3",
      "display_name": "Python 3"
    },
    "language_info": {
      "name": "python"
    }
  },
  "cells": [
    {
      "cell_type": "code",
      "execution_count": 2,
      "metadata": {
        "colab": {
          "base_uri": "https://localhost:8080/"
        },
        "id": "AsykeAuDIacH",
        "outputId": "7a3fcd9a-7228-404d-8df2-b08a6853b1ca"
      },
      "outputs": [
        {
          "output_type": "stream",
          "name": "stdout",
          "text": [
            "String completa: processamento de liguagem natural ciência de dados IA 2024\n",
            "Tamanho total (com espaços): 58\n",
            "Tamanho sem espaços: 50\n",
            "Maiúscula: PROCESSAMENTO DE LIGUAGEM NATURAL CIÊNCIA DE DADOS IA 2024\n",
            "Minúscula: processamento de liguagem natural ciência de dados ia 2024\n",
            "Sem espaço no início: processamento de liguagem natural ciência de dados IA 2024\n",
            "Substituída: processxmento de liguxgem nxturxl ciêncix de dxdos IA 2024\n",
            "Palavras separadas: ['processamento', 'de', 'liguagem', 'natural', 'ciência', 'de', 'dados', 'IA', '2024']\n",
            "Quantidade de palavras: 9\n",
            "Separada por 'de': ['processamento ', ' liguagem natural ciência ', ' dados IA 2024']\n",
            "Quantidade separada por 'de': 3\n",
            "Juntas por espaço: processamento de liguagem natural ciência de dados IA 2024\n",
            "Juntas por barra invertida: processamento\\de\\liguagem\\natural\\ciência\\de\\dados\\IA\\2024\n"
          ]
        }
      ],
      "source": [
        "minha_string = \"processamento de liguagem natural\"\n",
        "\n",
        "minha_string += \" ciência de dados\" + \" IA\"\n",
        "\n",
        "minha_string += \" 2024\"\n",
        "\n",
        "tamanho_total = len(minha_string)\n",
        "tamanho_sem_espacos = len(minha_string.replace(\" \", \"\"))\n",
        "\n",
        "maiuscula = minha_string.upper()\n",
        "\n",
        "minuscula = minha_string.lower()\n",
        "\n",
        "minha_string_sem_espaco_inicio = minha_string.lstrip()\n",
        "\n",
        "substituida = minha_string.replace(\"a\", \"x\")\n",
        "\n",
        "palavras = minha_string.split()\n",
        "\n",
        "quantidade_palavras = len(palavras)\n",
        "\n",
        "separada_por_de = minha_string.split(\"de\")\n",
        "\n",
        "quantidade_separada_por_de = len(separada_por_de)\n",
        "\n",
        "juntas_por_espaco = \" \".join(palavras)\n",
        "\n",
        "juntas_por_barra_invertida = \"\\\\\".join(palavras)\n",
        "\n",
        "print(\"String completa:\", minha_string)\n",
        "print(\"Tamanho total (com espaços):\", tamanho_total)\n",
        "print(\"Tamanho sem espaços:\", tamanho_sem_espacos)\n",
        "print(\"Maiúscula:\", maiuscula)\n",
        "print(\"Minúscula:\", minuscula)\n",
        "print(\"Sem espaço no início:\", minha_string_sem_espaco_inicio)\n",
        "print(\"Substituída:\", substituida)\n",
        "print(\"Palavras separadas:\", palavras)\n",
        "print(\"Quantidade de palavras:\", quantidade_palavras)\n",
        "print(\"Separada por 'de':\", separada_por_de)\n",
        "print(\"Quantidade separada por 'de':\", quantidade_separada_por_de)\n",
        "print(\"Juntas por espaço:\", juntas_por_espaco)\n",
        "print(\"Juntas por barra invertida:\", juntas_por_barra_invertida)\n"
      ]
    }
  ]
}